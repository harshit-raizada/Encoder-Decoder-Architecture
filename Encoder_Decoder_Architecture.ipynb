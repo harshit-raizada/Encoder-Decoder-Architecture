{
  "nbformat": 4,
  "nbformat_minor": 0,
  "metadata": {
    "colab": {
      "provenance": [],
      "gpuType": "T4"
    },
    "kernelspec": {
      "name": "python3",
      "display_name": "Python 3"
    },
    "language_info": {
      "name": "python"
    },
    "accelerator": "GPU"
  },
  "cells": [
    {
      "cell_type": "code",
      "execution_count": 2,
      "metadata": {
        "id": "oUkp529OAiQn"
      },
      "outputs": [],
      "source": [
        "# Importing libraries\n",
        "\n",
        "import numpy as np\n",
        "import tensorflow as tf\n",
        "from tensorflow.keras.models import Model\n",
        "from tensorflow.keras.layers import Input, Dense, LSTM"
      ]
    },
    {
      "cell_type": "code",
      "source": [
        "# Input parameters\n",
        "\n",
        "input_dim = 10\n",
        "timesteps = 5\n",
        "output_dim = 8\n",
        "latent_dim = 16"
      ],
      "metadata": {
        "id": "pyXUNHIuAvDi"
      },
      "execution_count": 3,
      "outputs": []
    },
    {
      "cell_type": "code",
      "source": [
        "# Encoder architecture\n",
        "\n",
        "encoder_inputs = Input(shape = (timesteps, input_dim))\n",
        "encoder_lstm = LSTM(latent_dim, return_state = True)\n",
        "\n",
        "_, state_h, state_c = encoder_lstm(encoder_inputs)\n",
        "\n",
        "encoder_states = [state_h, state_c]\n",
        "\n",
        "encoder_states"
      ],
      "metadata": {
        "colab": {
          "base_uri": "https://localhost:8080/"
        },
        "id": "AAD6BA2hbQQ0",
        "outputId": "443fa757-caa8-4e0f-c1cb-84a1078fee55"
      },
      "execution_count": 4,
      "outputs": [
        {
          "output_type": "execute_result",
          "data": {
            "text/plain": [
              "[<KerasTensor shape=(None, 16), dtype=float32, sparse=False, name=keras_tensor_2>,\n",
              " <KerasTensor shape=(None, 16), dtype=float32, sparse=False, name=keras_tensor_3>]"
            ]
          },
          "metadata": {},
          "execution_count": 4
        }
      ]
    },
    {
      "cell_type": "code",
      "source": [
        "# Decoder architecture\n",
        "\n",
        "decoder_inputs = Input(shape = (timesteps, output_dim))\n",
        "decoder_lstm = LSTM(latent_dim, return_state = True, return_sequences = True)\n",
        "\n",
        "decoder_outputs, _, _ = decoder_lstm(decoder_inputs, initial_state = encoder_states)\n",
        "\n",
        "decoder_dense = Dense(output_dim, activation = 'softmax')\n",
        "decoder_outputs = decoder_dense(decoder_outputs)"
      ],
      "metadata": {
        "id": "FVtyh65mcg-i"
      },
      "execution_count": 5,
      "outputs": []
    },
    {
      "cell_type": "code",
      "source": [
        "model = Model([encoder_inputs, decoder_inputs], decoder_outputs)"
      ],
      "metadata": {
        "id": "1KYa1DqKeud6"
      },
      "execution_count": 6,
      "outputs": []
    },
    {
      "cell_type": "code",
      "source": [
        "model"
      ],
      "metadata": {
        "colab": {
          "base_uri": "https://localhost:8080/"
        },
        "id": "PluS4ju_fEm0",
        "outputId": "87bfe511-94e4-4ae6-e384-23669ab5eb61"
      },
      "execution_count": 7,
      "outputs": [
        {
          "output_type": "execute_result",
          "data": {
            "text/plain": [
              "<Functional name=functional, built=True>"
            ]
          },
          "metadata": {},
          "execution_count": 7
        }
      ]
    },
    {
      "cell_type": "code",
      "source": [
        "model.compile(optimizer = 'adam', metrics = ['accuracy'], loss = 'categorical_crossentropy')"
      ],
      "metadata": {
        "id": "XkOm9zeLfFIK"
      },
      "execution_count": 8,
      "outputs": []
    },
    {
      "cell_type": "code",
      "source": [
        "# Random data creation\n",
        "\n",
        "encoder_input_data = np.random.random((1000, timesteps, input_dim))\n",
        "decoder_input_data = np.random.random((1000, timesteps, output_dim))\n",
        "decoder_target_data = np.random.random((1000, timesteps, output_dim))"
      ],
      "metadata": {
        "id": "M63Gv_cVfQds"
      },
      "execution_count": 9,
      "outputs": []
    },
    {
      "cell_type": "code",
      "source": [
        "encoder_input_data\n",
        "decoder_input_data\n",
        "decoder_target_data"
      ],
      "metadata": {
        "colab": {
          "base_uri": "https://localhost:8080/"
        },
        "id": "R8IL32DywTO_",
        "outputId": "d42b83fb-37e9-4d24-aaca-600edb708357"
      },
      "execution_count": 10,
      "outputs": [
        {
          "output_type": "execute_result",
          "data": {
            "text/plain": [
              "array([[[0.07733004, 0.98976237, 0.50933495, ..., 0.30003947,\n",
              "         0.00810057, 0.44785931],\n",
              "        [0.59891314, 0.75215369, 0.84946628, ..., 0.2773815 ,\n",
              "         0.03793117, 0.57863264],\n",
              "        [0.53630434, 0.49161696, 0.98920233, ..., 0.70678492,\n",
              "         0.95092642, 0.9476023 ],\n",
              "        [0.75828137, 0.78788382, 0.52312906, ..., 0.98170757,\n",
              "         0.01405647, 0.40097999],\n",
              "        [0.19014099, 0.28331504, 0.48894623, ..., 0.21888477,\n",
              "         0.30013084, 0.43243352]],\n",
              "\n",
              "       [[0.24820437, 0.28279988, 0.96690032, ..., 0.56480326,\n",
              "         0.32733042, 0.19505104],\n",
              "        [0.61891095, 0.02220652, 0.98007625, ..., 0.30333968,\n",
              "         0.78574747, 0.6879257 ],\n",
              "        [0.85842858, 0.09825251, 0.67819127, ..., 0.88571145,\n",
              "         0.96226107, 0.12406555],\n",
              "        [0.99545015, 0.95223115, 0.5107883 , ..., 0.92908256,\n",
              "         0.32066181, 0.69381665],\n",
              "        [0.4584102 , 0.13796842, 0.55584973, ..., 0.70337918,\n",
              "         0.58446512, 0.82067259]],\n",
              "\n",
              "       [[0.61742772, 0.52589423, 0.89076342, ..., 0.34729145,\n",
              "         0.24976185, 0.14534256],\n",
              "        [0.37816036, 0.22559296, 0.42714103, ..., 0.58285678,\n",
              "         0.46636425, 0.74767624],\n",
              "        [0.47125171, 0.23309388, 0.83338296, ..., 0.8724364 ,\n",
              "         0.673594  , 0.65360086],\n",
              "        [0.01746513, 0.1928344 , 0.7873099 , ..., 0.06862201,\n",
              "         0.07091328, 0.86725612],\n",
              "        [0.70078714, 0.62069515, 0.85208312, ..., 0.28840158,\n",
              "         0.16288298, 0.95324382]],\n",
              "\n",
              "       ...,\n",
              "\n",
              "       [[0.09938066, 0.24730639, 0.84783558, ..., 0.09655183,\n",
              "         0.36055714, 0.56940613],\n",
              "        [0.17693111, 0.00349946, 0.85645909, ..., 0.43415814,\n",
              "         0.70611119, 0.90637523],\n",
              "        [0.3404217 , 0.763011  , 0.95700143, ..., 0.69467789,\n",
              "         0.50274506, 0.1211993 ],\n",
              "        [0.29578051, 0.77087892, 0.10694252, ..., 0.13307881,\n",
              "         0.47277842, 0.44786281],\n",
              "        [0.2863283 , 0.3181509 , 0.13975773, ..., 0.95407   ,\n",
              "         0.75311065, 0.08226732]],\n",
              "\n",
              "       [[0.00392835, 0.21355108, 0.49598626, ..., 0.2284552 ,\n",
              "         0.49020377, 0.15782897],\n",
              "        [0.77321665, 0.69058143, 0.53482416, ..., 0.97619788,\n",
              "         0.57888537, 0.02018785],\n",
              "        [0.30758558, 0.97827516, 0.45268104, ..., 0.18486015,\n",
              "         0.97309672, 0.6045595 ],\n",
              "        [0.7265663 , 0.86189255, 0.71463169, ..., 0.93638439,\n",
              "         0.53670122, 0.18747511],\n",
              "        [0.08302042, 0.19248993, 0.01020803, ..., 0.2417014 ,\n",
              "         0.28143829, 0.69753104]],\n",
              "\n",
              "       [[0.93067345, 0.21115636, 0.14031917, ..., 0.00801146,\n",
              "         0.32859288, 0.43171837],\n",
              "        [0.37728436, 0.99821448, 0.84699343, ..., 0.13111906,\n",
              "         0.27417471, 0.42604724],\n",
              "        [0.66072751, 0.84631007, 0.9307489 , ..., 0.00435615,\n",
              "         0.88036097, 0.90830413],\n",
              "        [0.41460229, 0.20152014, 0.7333943 , ..., 0.01830886,\n",
              "         0.39567787, 0.92576097],\n",
              "        [0.95509281, 0.29409577, 0.97040094, ..., 0.04656237,\n",
              "         0.28198087, 0.44047132]]])"
            ]
          },
          "metadata": {},
          "execution_count": 10
        }
      ]
    },
    {
      "cell_type": "code",
      "source": [
        "model.fit([encoder_input_data, decoder_input_data], decoder_target_data, batch_size = 64, epochs = 10, validation_split = 0.2)"
      ],
      "metadata": {
        "colab": {
          "base_uri": "https://localhost:8080/"
        },
        "id": "sAGeymMufaOh",
        "outputId": "63d97a38-ccd4-4ecc-8964-67356f2ecc5e"
      },
      "execution_count": 11,
      "outputs": [
        {
          "output_type": "stream",
          "name": "stdout",
          "text": [
            "Epoch 1/10\n",
            "\u001b[1m13/13\u001b[0m \u001b[32m━━━━━━━━━━━━━━━━━━━━\u001b[0m\u001b[37m\u001b[0m \u001b[1m4s\u001b[0m 52ms/step - accuracy: 0.1280 - loss: 8.4169 - val_accuracy: 0.1240 - val_loss: 8.5620\n",
            "Epoch 2/10\n",
            "\u001b[1m13/13\u001b[0m \u001b[32m━━━━━━━━━━━━━━━━━━━━\u001b[0m\u001b[37m\u001b[0m \u001b[1m1s\u001b[0m 10ms/step - accuracy: 0.1246 - loss: 8.6078 - val_accuracy: 0.1240 - val_loss: 8.8026\n",
            "Epoch 3/10\n",
            "\u001b[1m13/13\u001b[0m \u001b[32m━━━━━━━━━━━━━━━━━━━━\u001b[0m\u001b[37m\u001b[0m \u001b[1m0s\u001b[0m 18ms/step - accuracy: 0.1274 - loss: 8.8512 - val_accuracy: 0.1240 - val_loss: 9.1724\n",
            "Epoch 4/10\n",
            "\u001b[1m13/13\u001b[0m \u001b[32m━━━━━━━━━━━━━━━━━━━━\u001b[0m\u001b[37m\u001b[0m \u001b[1m0s\u001b[0m 10ms/step - accuracy: 0.1277 - loss: 9.2315 - val_accuracy: 0.1240 - val_loss: 9.6055\n",
            "Epoch 5/10\n",
            "\u001b[1m13/13\u001b[0m \u001b[32m━━━━━━━━━━━━━━━━━━━━\u001b[0m\u001b[37m\u001b[0m \u001b[1m0s\u001b[0m 9ms/step - accuracy: 0.1265 - loss: 9.6813 - val_accuracy: 0.1240 - val_loss: 9.9764\n",
            "Epoch 6/10\n",
            "\u001b[1m13/13\u001b[0m \u001b[32m━━━━━━━━━━━━━━━━━━━━\u001b[0m\u001b[37m\u001b[0m \u001b[1m0s\u001b[0m 10ms/step - accuracy: 0.1230 - loss: 10.0016 - val_accuracy: 0.1240 - val_loss: 10.2509\n",
            "Epoch 7/10\n",
            "\u001b[1m13/13\u001b[0m \u001b[32m━━━━━━━━━━━━━━━━━━━━\u001b[0m\u001b[37m\u001b[0m \u001b[1m0s\u001b[0m 11ms/step - accuracy: 0.1316 - loss: 10.1715 - val_accuracy: 0.1240 - val_loss: 10.4386\n",
            "Epoch 8/10\n",
            "\u001b[1m13/13\u001b[0m \u001b[32m━━━━━━━━━━━━━━━━━━━━\u001b[0m\u001b[37m\u001b[0m \u001b[1m0s\u001b[0m 9ms/step - accuracy: 0.1207 - loss: 10.4352 - val_accuracy: 0.1240 - val_loss: 10.5356\n",
            "Epoch 9/10\n",
            "\u001b[1m13/13\u001b[0m \u001b[32m━━━━━━━━━━━━━━━━━━━━\u001b[0m\u001b[37m\u001b[0m \u001b[1m0s\u001b[0m 9ms/step - accuracy: 0.1318 - loss: 10.4980 - val_accuracy: 0.1240 - val_loss: 10.5396\n",
            "Epoch 10/10\n",
            "\u001b[1m13/13\u001b[0m \u001b[32m━━━━━━━━━━━━━━━━━━━━\u001b[0m\u001b[37m\u001b[0m \u001b[1m0s\u001b[0m 9ms/step - accuracy: 0.1240 - loss: 10.4380 - val_accuracy: 0.1240 - val_loss: 10.4719\n"
          ]
        },
        {
          "output_type": "execute_result",
          "data": {
            "text/plain": [
              "<keras.src.callbacks.history.History at 0x79fcf248ffd0>"
            ]
          },
          "metadata": {},
          "execution_count": 11
        }
      ]
    },
    {
      "cell_type": "code",
      "source": [
        "test_encoder_input_data = np.random.random((200, timesteps, input_dim))\n",
        "test_decoder_input_data = np.random.random((200, timesteps, output_dim))\n",
        "test_decoder_target_data = np.random.random((200, timesteps, output_dim))\n",
        "\n",
        "# Evaluate the model\n",
        "loss, accuracy = model.evaluate([test_encoder_input_data, test_decoder_input_data], test_decoder_target_data)\n",
        "print(f'Test Loss: {loss}')\n",
        "print(f'Test Accuracy: {accuracy}')"
      ],
      "metadata": {
        "colab": {
          "base_uri": "https://localhost:8080/"
        },
        "id": "51gW2g_uwHYj",
        "outputId": "b94e5f7a-cbef-43cf-ba2a-ebb63b5a5e28"
      },
      "execution_count": 12,
      "outputs": [
        {
          "output_type": "stream",
          "name": "stdout",
          "text": [
            "\u001b[1m7/7\u001b[0m \u001b[32m━━━━━━━━━━━━━━━━━━━━\u001b[0m\u001b[37m\u001b[0m \u001b[1m0s\u001b[0m 4ms/step - accuracy: 0.1267 - loss: 10.4929 \n",
            "Test Loss: 10.489489555358887\n",
            "Test Accuracy: 0.12799999117851257\n"
          ]
        }
      ]
    }
  ]
}